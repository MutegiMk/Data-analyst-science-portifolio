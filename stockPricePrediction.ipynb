{
  "nbformat": 4,
  "nbformat_minor": 0,
  "metadata": {
    "colab": {
      "name": "stockPricePrediction.ipynb",
      "provenance": []
    },
    "kernelspec": {
      "name": "python3",
      "display_name": "Python 3"
    },
    "language_info": {
      "name": "python"
    }
  },
  "cells": [
    {
      "cell_type": "markdown",
      "source": [
        "### This program uses an artificial recurrent neural network namely **Long Short Term Memory(LSTM)** to predict the closing stock price of a corporation(**apple Inc**) using the past 60 day stock"
      ],
      "metadata": {
        "id": "EogganIRwDpF"
      }
    },
    {
      "cell_type": "code",
      "execution_count": null,
      "metadata": {
        "id": "g_U9BKCNv6C0"
      },
      "outputs": [],
      "source": [
        "# Importing packages\n",
        "import math\n",
        "import pandas_datareader as web\n",
        "import numpy as np\n",
        "import pandas as pd\n",
        "from sklearn.preprocessing import MinMaxScaler\n",
        "from keras.models import sequential\n",
        "from keras.layers import Dense, LSTM\n",
        "import matplotlib.pyplot as plt\n",
        "plt.style.use('fivethirtyeight')"
      ]
    },
    {
      "cell_type": "code",
      "source": [
        "!pip install --upgrade pandas-datareader\n"
      ],
      "metadata": {
        "id": "vgy2ZqBZ0VH7"
      },
      "execution_count": null,
      "outputs": []
    },
    {
      "cell_type": "code",
      "source": [
        "# importing the dataset\n",
        "apple_data = web.DataReader('AAPL', data_source = 'yahoo', start='2012-01-01', end='2022-07-07')\n",
        "#print dataframe\n",
        "apple_data"
      ],
      "metadata": {
        "colab": {
          "base_uri": "https://localhost:8080/",
          "height": 455
        },
        "id": "1wigncqzyVd4",
        "outputId": "9e7b9df9-ee81-4a40-ae6a-651d9f4b952a"
      },
      "execution_count": null,
      "outputs": [
        {
          "output_type": "execute_result",
          "data": {
            "text/plain": [
              "                  High         Low        Open       Close       Volume  \\\n",
              "Date                                                                      \n",
              "2012-01-03   14.732143   14.607143   14.621429   14.686786  302220800.0   \n",
              "2012-01-04   14.810000   14.617143   14.642857   14.765714  260022000.0   \n",
              "2012-01-05   14.948214   14.738214   14.819643   14.929643  271269600.0   \n",
              "2012-01-06   15.098214   14.972143   14.991786   15.085714  318292800.0   \n",
              "2012-01-09   15.276786   15.048214   15.196429   15.061786  394024400.0   \n",
              "...                ...         ...         ...         ...          ...   \n",
              "2022-06-30  138.369995  133.770004  137.250000  136.720001   98964500.0   \n",
              "2022-07-01  139.039993  135.660004  136.039993  138.929993   71051600.0   \n",
              "2022-07-05  141.610001  136.929993  137.770004  141.559998   73353800.0   \n",
              "2022-07-06  144.119995  141.080002  141.350006  142.919998   74064300.0   \n",
              "2022-07-07  146.550003  143.279999  143.289993  146.350006   66253700.0   \n",
              "\n",
              "             Adj Close  \n",
              "Date                    \n",
              "2012-01-03   12.540047  \n",
              "2012-01-04   12.607436  \n",
              "2012-01-05   12.747408  \n",
              "2012-01-06   12.880664  \n",
              "2012-01-09   12.860234  \n",
              "...                ...  \n",
              "2022-06-30  136.530350  \n",
              "2022-07-01  138.737274  \n",
              "2022-07-05  141.363632  \n",
              "2022-07-06  142.721756  \n",
              "2022-07-07  146.147003  \n",
              "\n",
              "[2645 rows x 6 columns]"
            ],
            "text/html": [
              "\n",
              "  <div id=\"df-8915b30a-259a-4419-8fcb-3e1dd4aa85d7\">\n",
              "    <div class=\"colab-df-container\">\n",
              "      <div>\n",
              "<style scoped>\n",
              "    .dataframe tbody tr th:only-of-type {\n",
              "        vertical-align: middle;\n",
              "    }\n",
              "\n",
              "    .dataframe tbody tr th {\n",
              "        vertical-align: top;\n",
              "    }\n",
              "\n",
              "    .dataframe thead th {\n",
              "        text-align: right;\n",
              "    }\n",
              "</style>\n",
              "<table border=\"1\" class=\"dataframe\">\n",
              "  <thead>\n",
              "    <tr style=\"text-align: right;\">\n",
              "      <th></th>\n",
              "      <th>High</th>\n",
              "      <th>Low</th>\n",
              "      <th>Open</th>\n",
              "      <th>Close</th>\n",
              "      <th>Volume</th>\n",
              "      <th>Adj Close</th>\n",
              "    </tr>\n",
              "    <tr>\n",
              "      <th>Date</th>\n",
              "      <th></th>\n",
              "      <th></th>\n",
              "      <th></th>\n",
              "      <th></th>\n",
              "      <th></th>\n",
              "      <th></th>\n",
              "    </tr>\n",
              "  </thead>\n",
              "  <tbody>\n",
              "    <tr>\n",
              "      <th>2012-01-03</th>\n",
              "      <td>14.732143</td>\n",
              "      <td>14.607143</td>\n",
              "      <td>14.621429</td>\n",
              "      <td>14.686786</td>\n",
              "      <td>302220800.0</td>\n",
              "      <td>12.540047</td>\n",
              "    </tr>\n",
              "    <tr>\n",
              "      <th>2012-01-04</th>\n",
              "      <td>14.810000</td>\n",
              "      <td>14.617143</td>\n",
              "      <td>14.642857</td>\n",
              "      <td>14.765714</td>\n",
              "      <td>260022000.0</td>\n",
              "      <td>12.607436</td>\n",
              "    </tr>\n",
              "    <tr>\n",
              "      <th>2012-01-05</th>\n",
              "      <td>14.948214</td>\n",
              "      <td>14.738214</td>\n",
              "      <td>14.819643</td>\n",
              "      <td>14.929643</td>\n",
              "      <td>271269600.0</td>\n",
              "      <td>12.747408</td>\n",
              "    </tr>\n",
              "    <tr>\n",
              "      <th>2012-01-06</th>\n",
              "      <td>15.098214</td>\n",
              "      <td>14.972143</td>\n",
              "      <td>14.991786</td>\n",
              "      <td>15.085714</td>\n",
              "      <td>318292800.0</td>\n",
              "      <td>12.880664</td>\n",
              "    </tr>\n",
              "    <tr>\n",
              "      <th>2012-01-09</th>\n",
              "      <td>15.276786</td>\n",
              "      <td>15.048214</td>\n",
              "      <td>15.196429</td>\n",
              "      <td>15.061786</td>\n",
              "      <td>394024400.0</td>\n",
              "      <td>12.860234</td>\n",
              "    </tr>\n",
              "    <tr>\n",
              "      <th>...</th>\n",
              "      <td>...</td>\n",
              "      <td>...</td>\n",
              "      <td>...</td>\n",
              "      <td>...</td>\n",
              "      <td>...</td>\n",
              "      <td>...</td>\n",
              "    </tr>\n",
              "    <tr>\n",
              "      <th>2022-06-30</th>\n",
              "      <td>138.369995</td>\n",
              "      <td>133.770004</td>\n",
              "      <td>137.250000</td>\n",
              "      <td>136.720001</td>\n",
              "      <td>98964500.0</td>\n",
              "      <td>136.530350</td>\n",
              "    </tr>\n",
              "    <tr>\n",
              "      <th>2022-07-01</th>\n",
              "      <td>139.039993</td>\n",
              "      <td>135.660004</td>\n",
              "      <td>136.039993</td>\n",
              "      <td>138.929993</td>\n",
              "      <td>71051600.0</td>\n",
              "      <td>138.737274</td>\n",
              "    </tr>\n",
              "    <tr>\n",
              "      <th>2022-07-05</th>\n",
              "      <td>141.610001</td>\n",
              "      <td>136.929993</td>\n",
              "      <td>137.770004</td>\n",
              "      <td>141.559998</td>\n",
              "      <td>73353800.0</td>\n",
              "      <td>141.363632</td>\n",
              "    </tr>\n",
              "    <tr>\n",
              "      <th>2022-07-06</th>\n",
              "      <td>144.119995</td>\n",
              "      <td>141.080002</td>\n",
              "      <td>141.350006</td>\n",
              "      <td>142.919998</td>\n",
              "      <td>74064300.0</td>\n",
              "      <td>142.721756</td>\n",
              "    </tr>\n",
              "    <tr>\n",
              "      <th>2022-07-07</th>\n",
              "      <td>146.550003</td>\n",
              "      <td>143.279999</td>\n",
              "      <td>143.289993</td>\n",
              "      <td>146.350006</td>\n",
              "      <td>66253700.0</td>\n",
              "      <td>146.147003</td>\n",
              "    </tr>\n",
              "  </tbody>\n",
              "</table>\n",
              "<p>2645 rows × 6 columns</p>\n",
              "</div>\n",
              "      <button class=\"colab-df-convert\" onclick=\"convertToInteractive('df-8915b30a-259a-4419-8fcb-3e1dd4aa85d7')\"\n",
              "              title=\"Convert this dataframe to an interactive table.\"\n",
              "              style=\"display:none;\">\n",
              "        \n",
              "  <svg xmlns=\"http://www.w3.org/2000/svg\" height=\"24px\"viewBox=\"0 0 24 24\"\n",
              "       width=\"24px\">\n",
              "    <path d=\"M0 0h24v24H0V0z\" fill=\"none\"/>\n",
              "    <path d=\"M18.56 5.44l.94 2.06.94-2.06 2.06-.94-2.06-.94-.94-2.06-.94 2.06-2.06.94zm-11 1L8.5 8.5l.94-2.06 2.06-.94-2.06-.94L8.5 2.5l-.94 2.06-2.06.94zm10 10l.94 2.06.94-2.06 2.06-.94-2.06-.94-.94-2.06-.94 2.06-2.06.94z\"/><path d=\"M17.41 7.96l-1.37-1.37c-.4-.4-.92-.59-1.43-.59-.52 0-1.04.2-1.43.59L10.3 9.45l-7.72 7.72c-.78.78-.78 2.05 0 2.83L4 21.41c.39.39.9.59 1.41.59.51 0 1.02-.2 1.41-.59l7.78-7.78 2.81-2.81c.8-.78.8-2.07 0-2.86zM5.41 20L4 18.59l7.72-7.72 1.47 1.35L5.41 20z\"/>\n",
              "  </svg>\n",
              "      </button>\n",
              "      \n",
              "  <style>\n",
              "    .colab-df-container {\n",
              "      display:flex;\n",
              "      flex-wrap:wrap;\n",
              "      gap: 12px;\n",
              "    }\n",
              "\n",
              "    .colab-df-convert {\n",
              "      background-color: #E8F0FE;\n",
              "      border: none;\n",
              "      border-radius: 50%;\n",
              "      cursor: pointer;\n",
              "      display: none;\n",
              "      fill: #1967D2;\n",
              "      height: 32px;\n",
              "      padding: 0 0 0 0;\n",
              "      width: 32px;\n",
              "    }\n",
              "\n",
              "    .colab-df-convert:hover {\n",
              "      background-color: #E2EBFA;\n",
              "      box-shadow: 0px 1px 2px rgba(60, 64, 67, 0.3), 0px 1px 3px 1px rgba(60, 64, 67, 0.15);\n",
              "      fill: #174EA6;\n",
              "    }\n",
              "\n",
              "    [theme=dark] .colab-df-convert {\n",
              "      background-color: #3B4455;\n",
              "      fill: #D2E3FC;\n",
              "    }\n",
              "\n",
              "    [theme=dark] .colab-df-convert:hover {\n",
              "      background-color: #434B5C;\n",
              "      box-shadow: 0px 1px 3px 1px rgba(0, 0, 0, 0.15);\n",
              "      filter: drop-shadow(0px 1px 2px rgba(0, 0, 0, 0.3));\n",
              "      fill: #FFFFFF;\n",
              "    }\n",
              "  </style>\n",
              "\n",
              "      <script>\n",
              "        const buttonEl =\n",
              "          document.querySelector('#df-8915b30a-259a-4419-8fcb-3e1dd4aa85d7 button.colab-df-convert');\n",
              "        buttonEl.style.display =\n",
              "          google.colab.kernel.accessAllowed ? 'block' : 'none';\n",
              "\n",
              "        async function convertToInteractive(key) {\n",
              "          const element = document.querySelector('#df-8915b30a-259a-4419-8fcb-3e1dd4aa85d7');\n",
              "          const dataTable =\n",
              "            await google.colab.kernel.invokeFunction('convertToInteractive',\n",
              "                                                     [key], {});\n",
              "          if (!dataTable) return;\n",
              "\n",
              "          const docLinkHtml = 'Like what you see? Visit the ' +\n",
              "            '<a target=\"_blank\" href=https://colab.research.google.com/notebooks/data_table.ipynb>data table notebook</a>'\n",
              "            + ' to learn more about interactive tables.';\n",
              "          element.innerHTML = '';\n",
              "          dataTable['output_type'] = 'display_data';\n",
              "          await google.colab.output.renderOutput(dataTable, element);\n",
              "          const docLink = document.createElement('div');\n",
              "          docLink.innerHTML = docLinkHtml;\n",
              "          element.appendChild(docLink);\n",
              "        }\n",
              "      </script>\n",
              "    </div>\n",
              "  </div>\n",
              "  "
            ]
          },
          "metadata": {},
          "execution_count": 3
        }
      ]
    },
    {
      "cell_type": "code",
      "source": [
        "# structure of the data\n",
        "apple_data.shape"
      ],
      "metadata": {
        "colab": {
          "base_uri": "https://localhost:8080/"
        },
        "id": "py_PESpOzkl_",
        "outputId": "cb1b97ab-9b3f-4104-ddee-97f5ccab6c6a"
      },
      "execution_count": null,
      "outputs": [
        {
          "output_type": "execute_result",
          "data": {
            "text/plain": [
              "(2645, 6)"
            ]
          },
          "metadata": {},
          "execution_count": 5
        }
      ]
    },
    {
      "cell_type": "code",
      "source": [
        "apple_data.info()"
      ],
      "metadata": {
        "colab": {
          "base_uri": "https://localhost:8080/"
        },
        "id": "Q7wkORmB0-w9",
        "outputId": "745fdd25-7f8d-4067-f3d1-32b76c188206"
      },
      "execution_count": null,
      "outputs": [
        {
          "output_type": "stream",
          "name": "stdout",
          "text": [
            "<class 'pandas.core.frame.DataFrame'>\n",
            "DatetimeIndex: 2645 entries, 2012-01-03 to 2022-07-07\n",
            "Data columns (total 6 columns):\n",
            " #   Column     Non-Null Count  Dtype  \n",
            "---  ------     --------------  -----  \n",
            " 0   High       2645 non-null   float64\n",
            " 1   Low        2645 non-null   float64\n",
            " 2   Open       2645 non-null   float64\n",
            " 3   Close      2645 non-null   float64\n",
            " 4   Volume     2645 non-null   float64\n",
            " 5   Adj Close  2645 non-null   float64\n",
            "dtypes: float64(6)\n",
            "memory usage: 144.6 KB\n"
          ]
        }
      ]
    },
    {
      "cell_type": "code",
      "source": [
        "# printing descriptive statistics\n",
        "apple_data.describe()\n"
      ],
      "metadata": {
        "colab": {
          "base_uri": "https://localhost:8080/",
          "height": 300
        },
        "id": "7bBGzsCU1LFM",
        "outputId": "74d5906a-fd74-445a-eeea-3c9b465eeae5"
      },
      "execution_count": null,
      "outputs": [
        {
          "output_type": "execute_result",
          "data": {
            "text/plain": [
              "              High          Low         Open        Close        Volume  \\\n",
              "count  2645.000000  2645.000000  2645.000000  2645.000000  2.645000e+03   \n",
              "mean     54.945800    53.766080    54.349313    54.378007  2.092278e+08   \n",
              "std      45.221027    44.086236    44.645503    44.676813  1.735800e+08   \n",
              "min      14.271429    13.753571    13.856071    13.947500  4.100000e+07   \n",
              "25%      24.146429    23.673214    23.924999    23.900000  9.913000e+07   \n",
              "50%      35.730000    35.277500    35.527500    35.547501  1.449440e+08   \n",
              "75%      64.402496    61.762501    62.685001    63.215000  2.572748e+08   \n",
              "max     182.940002   179.119995   182.630005   182.009995  1.506120e+09   \n",
              "\n",
              "         Adj Close  \n",
              "count  2645.000000  \n",
              "mean     52.497591  \n",
              "std      45.240814  \n",
              "min      12.084599  \n",
              "25%      21.606512  \n",
              "50%      33.485634  \n",
              "75%      62.180271  \n",
              "max     181.259933  "
            ],
            "text/html": [
              "\n",
              "  <div id=\"df-8ee92a39-0f01-4018-8a41-07295abbd38f\">\n",
              "    <div class=\"colab-df-container\">\n",
              "      <div>\n",
              "<style scoped>\n",
              "    .dataframe tbody tr th:only-of-type {\n",
              "        vertical-align: middle;\n",
              "    }\n",
              "\n",
              "    .dataframe tbody tr th {\n",
              "        vertical-align: top;\n",
              "    }\n",
              "\n",
              "    .dataframe thead th {\n",
              "        text-align: right;\n",
              "    }\n",
              "</style>\n",
              "<table border=\"1\" class=\"dataframe\">\n",
              "  <thead>\n",
              "    <tr style=\"text-align: right;\">\n",
              "      <th></th>\n",
              "      <th>High</th>\n",
              "      <th>Low</th>\n",
              "      <th>Open</th>\n",
              "      <th>Close</th>\n",
              "      <th>Volume</th>\n",
              "      <th>Adj Close</th>\n",
              "    </tr>\n",
              "  </thead>\n",
              "  <tbody>\n",
              "    <tr>\n",
              "      <th>count</th>\n",
              "      <td>2645.000000</td>\n",
              "      <td>2645.000000</td>\n",
              "      <td>2645.000000</td>\n",
              "      <td>2645.000000</td>\n",
              "      <td>2.645000e+03</td>\n",
              "      <td>2645.000000</td>\n",
              "    </tr>\n",
              "    <tr>\n",
              "      <th>mean</th>\n",
              "      <td>54.945800</td>\n",
              "      <td>53.766080</td>\n",
              "      <td>54.349313</td>\n",
              "      <td>54.378007</td>\n",
              "      <td>2.092278e+08</td>\n",
              "      <td>52.497591</td>\n",
              "    </tr>\n",
              "    <tr>\n",
              "      <th>std</th>\n",
              "      <td>45.221027</td>\n",
              "      <td>44.086236</td>\n",
              "      <td>44.645503</td>\n",
              "      <td>44.676813</td>\n",
              "      <td>1.735800e+08</td>\n",
              "      <td>45.240814</td>\n",
              "    </tr>\n",
              "    <tr>\n",
              "      <th>min</th>\n",
              "      <td>14.271429</td>\n",
              "      <td>13.753571</td>\n",
              "      <td>13.856071</td>\n",
              "      <td>13.947500</td>\n",
              "      <td>4.100000e+07</td>\n",
              "      <td>12.084599</td>\n",
              "    </tr>\n",
              "    <tr>\n",
              "      <th>25%</th>\n",
              "      <td>24.146429</td>\n",
              "      <td>23.673214</td>\n",
              "      <td>23.924999</td>\n",
              "      <td>23.900000</td>\n",
              "      <td>9.913000e+07</td>\n",
              "      <td>21.606512</td>\n",
              "    </tr>\n",
              "    <tr>\n",
              "      <th>50%</th>\n",
              "      <td>35.730000</td>\n",
              "      <td>35.277500</td>\n",
              "      <td>35.527500</td>\n",
              "      <td>35.547501</td>\n",
              "      <td>1.449440e+08</td>\n",
              "      <td>33.485634</td>\n",
              "    </tr>\n",
              "    <tr>\n",
              "      <th>75%</th>\n",
              "      <td>64.402496</td>\n",
              "      <td>61.762501</td>\n",
              "      <td>62.685001</td>\n",
              "      <td>63.215000</td>\n",
              "      <td>2.572748e+08</td>\n",
              "      <td>62.180271</td>\n",
              "    </tr>\n",
              "    <tr>\n",
              "      <th>max</th>\n",
              "      <td>182.940002</td>\n",
              "      <td>179.119995</td>\n",
              "      <td>182.630005</td>\n",
              "      <td>182.009995</td>\n",
              "      <td>1.506120e+09</td>\n",
              "      <td>181.259933</td>\n",
              "    </tr>\n",
              "  </tbody>\n",
              "</table>\n",
              "</div>\n",
              "      <button class=\"colab-df-convert\" onclick=\"convertToInteractive('df-8ee92a39-0f01-4018-8a41-07295abbd38f')\"\n",
              "              title=\"Convert this dataframe to an interactive table.\"\n",
              "              style=\"display:none;\">\n",
              "        \n",
              "  <svg xmlns=\"http://www.w3.org/2000/svg\" height=\"24px\"viewBox=\"0 0 24 24\"\n",
              "       width=\"24px\">\n",
              "    <path d=\"M0 0h24v24H0V0z\" fill=\"none\"/>\n",
              "    <path d=\"M18.56 5.44l.94 2.06.94-2.06 2.06-.94-2.06-.94-.94-2.06-.94 2.06-2.06.94zm-11 1L8.5 8.5l.94-2.06 2.06-.94-2.06-.94L8.5 2.5l-.94 2.06-2.06.94zm10 10l.94 2.06.94-2.06 2.06-.94-2.06-.94-.94-2.06-.94 2.06-2.06.94z\"/><path d=\"M17.41 7.96l-1.37-1.37c-.4-.4-.92-.59-1.43-.59-.52 0-1.04.2-1.43.59L10.3 9.45l-7.72 7.72c-.78.78-.78 2.05 0 2.83L4 21.41c.39.39.9.59 1.41.59.51 0 1.02-.2 1.41-.59l7.78-7.78 2.81-2.81c.8-.78.8-2.07 0-2.86zM5.41 20L4 18.59l7.72-7.72 1.47 1.35L5.41 20z\"/>\n",
              "  </svg>\n",
              "      </button>\n",
              "      \n",
              "  <style>\n",
              "    .colab-df-container {\n",
              "      display:flex;\n",
              "      flex-wrap:wrap;\n",
              "      gap: 12px;\n",
              "    }\n",
              "\n",
              "    .colab-df-convert {\n",
              "      background-color: #E8F0FE;\n",
              "      border: none;\n",
              "      border-radius: 50%;\n",
              "      cursor: pointer;\n",
              "      display: none;\n",
              "      fill: #1967D2;\n",
              "      height: 32px;\n",
              "      padding: 0 0 0 0;\n",
              "      width: 32px;\n",
              "    }\n",
              "\n",
              "    .colab-df-convert:hover {\n",
              "      background-color: #E2EBFA;\n",
              "      box-shadow: 0px 1px 2px rgba(60, 64, 67, 0.3), 0px 1px 3px 1px rgba(60, 64, 67, 0.15);\n",
              "      fill: #174EA6;\n",
              "    }\n",
              "\n",
              "    [theme=dark] .colab-df-convert {\n",
              "      background-color: #3B4455;\n",
              "      fill: #D2E3FC;\n",
              "    }\n",
              "\n",
              "    [theme=dark] .colab-df-convert:hover {\n",
              "      background-color: #434B5C;\n",
              "      box-shadow: 0px 1px 3px 1px rgba(0, 0, 0, 0.15);\n",
              "      filter: drop-shadow(0px 1px 2px rgba(0, 0, 0, 0.3));\n",
              "      fill: #FFFFFF;\n",
              "    }\n",
              "  </style>\n",
              "\n",
              "      <script>\n",
              "        const buttonEl =\n",
              "          document.querySelector('#df-8ee92a39-0f01-4018-8a41-07295abbd38f button.colab-df-convert');\n",
              "        buttonEl.style.display =\n",
              "          google.colab.kernel.accessAllowed ? 'block' : 'none';\n",
              "\n",
              "        async function convertToInteractive(key) {\n",
              "          const element = document.querySelector('#df-8ee92a39-0f01-4018-8a41-07295abbd38f');\n",
              "          const dataTable =\n",
              "            await google.colab.kernel.invokeFunction('convertToInteractive',\n",
              "                                                     [key], {});\n",
              "          if (!dataTable) return;\n",
              "\n",
              "          const docLinkHtml = 'Like what you see? Visit the ' +\n",
              "            '<a target=\"_blank\" href=https://colab.research.google.com/notebooks/data_table.ipynb>data table notebook</a>'\n",
              "            + ' to learn more about interactive tables.';\n",
              "          element.innerHTML = '';\n",
              "          dataTable['output_type'] = 'display_data';\n",
              "          await google.colab.output.renderOutput(dataTable, element);\n",
              "          const docLink = document.createElement('div');\n",
              "          docLink.innerHTML = docLinkHtml;\n",
              "          element.appendChild(docLink);\n",
              "        }\n",
              "      </script>\n",
              "    </div>\n",
              "  </div>\n",
              "  "
            ]
          },
          "metadata": {},
          "execution_count": 7
        }
      ]
    },
    {
      "cell_type": "code",
      "source": [
        "# Closing price visualization\n",
        "plt.figure(figsize=(16,8))\n",
        "plt.title('Closing price History')\n",
        "plt.plot(apple_data['Close'])\n",
        "plt.xlabel('Date', fontsize=18)\n",
        "plt.ylabel('Close Price USD ($) ',fontsize=18 )\n",
        "plt.show()\n"
      ],
      "metadata": {
        "colab": {
          "base_uri": "https://localhost:8080/",
          "height": 558
        },
        "id": "kzJNIyf91a6K",
        "outputId": "abc95aab-3098-49eb-8fb6-4e264da933df"
      },
      "execution_count": null,
      "outputs": [
        {
          "output_type": "display_data",
          "data": {
            "text/plain": [
              "<Figure size 1152x576 with 1 Axes>"
            ],
            "image/png": "[encoded data removed]"
          },
          "metadata": {}
        }
      ]
    },
    {
      "cell_type": "markdown",
      "source": [
        "- From the above visual apple stock closing price seems have an upward trend over the years indicating its a good stock to invest in. Let assume you bought the stock in 2014 at price of 24 dollars and later sold it at the start of 2022 where we have peak price then your profit guess is good as mine 😊💸"
      ],
      "metadata": {
        "id": "oDCGG1eh24xV"
      }
    },
    {
      "cell_type": "code",
      "source": [
        "# create a new dataframe with only the Close column\n",
        "data = apple_data.filter(['Close'])\n",
        "# convert the dataframe to a numpy array\n",
        "dataset = data.values\n",
        "# Getting the Number of rows to train the model on\n",
        "training_data_len = math.ceil(len(dataset)* .8)\n",
        "\n",
        "training_data_len"
      ],
      "metadata": {
        "colab": {
          "base_uri": "https://localhost:8080/"
        },
        "id": "dP2dZHTg2g5w",
        "outputId": "32c21a9f-d1d3-4c97-b4e2-654c2c668cac"
      },
      "execution_count": null,
      "outputs": [
        {
          "output_type": "execute_result",
          "data": {
            "text/plain": [
              "2116"
            ]
          },
          "metadata": {},
          "execution_count": 9
        }
      ]
    },
    {
      "cell_type": "code",
      "source": [
        "# Scaling the data\n",
        "scaler = MinMaxScaler(feature_range=(0,1))\n",
        "scaled_data = scaler.fit_transform(dataset)\n",
        "\n",
        "scaled_data"
      ],
      "metadata": {
        "colab": {
          "base_uri": "https://localhost:8080/"
        },
        "id": "s1lB0ngu6MT4",
        "outputId": "b08d194f-6f93-4ec2-c1b6-7ff770495f36"
      },
      "execution_count": null,
      "outputs": [
        {
          "output_type": "execute_result",
          "data": {
            "text/plain": [
              "array([[0.00439887],\n",
              "       [0.00486851],\n",
              "       [0.00584391],\n",
              "       ...,\n",
              "       [0.75931574],\n",
              "       [0.76740797],\n",
              "       [0.78781709]])"
            ]
          },
          "metadata": {},
          "execution_count": 10
        }
      ]
    },
    {
      "cell_type": "code",
      "source": [
        "# Creating the scaled training dataset\n",
        "train_data = scaled_data[0:training_data_len, :]\n",
        "# Splitting the data\n",
        "x_train = []\n",
        "y_train = []\n",
        "\n",
        "for i in range(60,len(train_data)):\n",
        "  x_train.append(train_data[i-60:i, 0])\n",
        "  y_train.append(train_data[i, 0])\n",
        "  if i<= 60:\n",
        "    print(x_train)\n",
        "    print(y_train)\n",
        "    print()\n"
      ],
      "metadata": {
        "colab": {
          "base_uri": "https://localhost:8080/"
        },
        "id": "jadX6Tib7EHb",
        "outputId": "1cf666fd-2b54-465e-a803-f8b2c0e699f5"
      },
      "execution_count": null,
      "outputs": [
        {
          "output_type": "stream",
          "name": "stdout",
          "text": [
            "[array([0.00439887, 0.00486851, 0.00584391, 0.00677256, 0.00663019,\n",
            "       0.00695107, 0.00680444, 0.00655793, 0.00622217, 0.00726133,\n",
            "       0.00819848, 0.00790947, 0.0063263 , 0.00783722, 0.00634968,\n",
            "       0.01192796, 0.01149658, 0.01205972, 0.01327737, 0.01401476,\n",
            "       0.01395314, 0.01372576, 0.01469479, 0.01560643, 0.01663922,\n",
            "       0.01830739, 0.02181161, 0.02186474, 0.02381555, 0.02527333,\n",
            "       0.0227679 , 0.02373267, 0.02371354, 0.02641875, 0.02603411,\n",
            "       0.026746  , 0.02802528, 0.02873719, 0.03078787, 0.03228178,\n",
            "       0.03271317, 0.03286405, 0.03030973, 0.02969346, 0.02978484,\n",
            "       0.03218616, 0.03286193, 0.03431335, 0.03773469, 0.04229932,\n",
            "       0.04144504, 0.04144716, 0.04474738, 0.04578017, 0.04504489,\n",
            "       0.04437338, 0.04367423, 0.04599691, 0.04759072, 0.04825798])]\n",
            "[0.04660893460974819]\n",
            "\n"
          ]
        }
      ]
    },
    {
      "cell_type": "code",
      "source": [
        "#Converting the training datasets to arrays\n",
        "x_train, y_train = np.array(x_train), np.array(y_train)"
      ],
      "metadata": {
        "id": "gQEXcZeb-QlD"
      },
      "execution_count": null,
      "outputs": []
    },
    {
      "cell_type": "code",
      "source": [
        "#Reshaping the data\n",
        "x_train = np.reshape(x_train, (x_train.shape[0], x_train.shape[1], 1))\n",
        "x_train.shape"
      ],
      "metadata": {
        "colab": {
          "base_uri": "https://localhost:8080/"
        },
        "id": "TxtORApEANBn",
        "outputId": "857c07fb-2683-47c0-e291-cea969f00aa2"
      },
      "execution_count": null,
      "outputs": [
        {
          "output_type": "execute_result",
          "data": {
            "text/plain": [
              "(2056, 60, 1)"
            ]
          },
          "metadata": {},
          "execution_count": 13
        }
      ]
    },
    {
      "cell_type": "code",
      "source": [
        "from keras.engine.sequential import Sequential\n",
        "# Building the LSTM model\n",
        "model = Sequential()\n",
        "model.add(LSTM(50, return_sequences=True, input_shape=(x_train.shape[1],1)))\n",
        "model.add(LSTM(50, return_sequences=False))\n",
        "model.add(Dense(25))\n",
        "model.add(Dense(1))\n"
      ],
      "metadata": {
        "id": "Bi7zHxl3Ar3C"
      },
      "execution_count": null,
      "outputs": []
    },
    {
      "cell_type": "code",
      "source": [
        "# Compiling the model\n",
        "model.compile(optimizer='adam', loss='mean_squared_error')"
      ],
      "metadata": {
        "id": "XGGoqU_HC4sa"
      },
      "execution_count": null,
      "outputs": []
    },
    {
      "cell_type": "code",
      "source": [
        "# Training the model\n",
        "model.fit(x_train, y_train, batch_size=1, epochs=1)"
      ],
      "metadata": {
        "colab": {
          "base_uri": "https://localhost:8080/"
        },
        "id": "VEKNyrbADhry",
        "outputId": "159a1045-07c0-4af4-fee8-ad2fdc2d8969"
      },
      "execution_count": null,
      "outputs": [
        {
          "output_type": "stream",
          "name": "stdout",
          "text": [
            "2056/2056 [==============================] - 32s 14ms/step - loss: 2.6856e-04\n"
          ]
        },
        {
          "output_type": "execute_result",
          "data": {
            "text/plain": [
              "<keras.callbacks.History at 0x7fc0058f31d0>"
            ]
          },
          "metadata": {},
          "execution_count": 16
        }
      ]
    },
    {
      "cell_type": "code",
      "source": [
        "# Creating the testing dataset\n",
        "#creating also a new array containing scaled values\n",
        "test_data = scaled_data[training_data_len - 60: , :]\n",
        "#create the data sets x_test and y_test\n",
        "x_test = []\n",
        "y_test = dataset[training_data_len:, :]\n",
        "for i in range (60, len(test_data)):\n",
        "  x_test.append(test_data[i-60:i, 0])"
      ],
      "metadata": {
        "id": "mEXVxB_jEMIM"
      },
      "execution_count": null,
      "outputs": []
    },
    {
      "cell_type": "code",
      "source": [
        "# Converting the data to a array\n",
        "x_test = np.array(x_test)"
      ],
      "metadata": {
        "id": "pbHC4z42GygQ"
      },
      "execution_count": null,
      "outputs": []
    },
    {
      "cell_type": "code",
      "source": [
        "#Reshaping the data\n",
        "x_test = np.reshape(x_test, (x_test.shape[0], x_test.shape[1], 1 ))\n"
      ],
      "metadata": {
        "id": "UWU0Hsj8HL1G"
      },
      "execution_count": null,
      "outputs": []
    },
    {
      "cell_type": "code",
      "source": [
        "# getting the models predicted values\n",
        "predictions = model.predict(x_test)\n",
        "predictions = scaler.inverse_transform(predictions)"
      ],
      "metadata": {
        "id": "-RtmgGf3HsbP"
      },
      "execution_count": null,
      "outputs": []
    },
    {
      "cell_type": "code",
      "source": [
        "# model evaluation using (RMSE)\n",
        "rmse = np.sqrt( np.mean(predictions -y_test)**2)\n",
        "rmse"
      ],
      "metadata": {
        "colab": {
          "base_uri": "https://localhost:8080/"
        },
        "id": "15decRt-IWL-",
        "outputId": "960d388d-43ac-4bb3-caaf-69ea7e90442e"
      },
      "execution_count": null,
      "outputs": [
        {
          "output_type": "execute_result",
          "data": {
            "text/plain": [
              "0.9987555433536522"
            ]
          },
          "metadata": {},
          "execution_count": 21
        }
      ]
    },
    {
      "cell_type": "code",
      "source": [
        "# plotting the data\n",
        "train = data[:training_data_len]\n",
        "valid = data[training_data_len:]\n",
        "valid['Predictions'] = predictions\n",
        "#Visualizing the data\n",
        "plt.figure(figsize=(16,8))\n",
        "plt.title('Model (LSTM)')\n",
        "plt.xlabel('Date', fontsize=18)\n",
        "plt.ylabel('Close Price USD ($)',fontsize=18)\n",
        "plt.plot(train['Close'])\n",
        "plt.plot(valid[['Close', 'Predictions']])\n",
        "plt.legend(['Train','Val', 'Predictions'], loc='lower right')\n",
        "plt.show()"
      ],
      "metadata": {
        "colab": {
          "base_uri": "https://localhost:8080/",
          "height": 662
        },
        "id": "uLkPqhr5I6Jd",
        "outputId": "6e4ec89d-d5e1-427b-a8e4-ce03f4074c81"
      },
      "execution_count": null,
      "outputs": [
        {
          "output_type": "stream",
          "name": "stderr",
          "text": [
            "/usr/local/lib/python3.7/dist-packages/ipykernel_launcher.py:4: SettingWithCopyWarning: \n",
            "A value is trying to be set on a copy of a slice from a DataFrame.\n",
            "Try using .loc[row_indexer,col_indexer] = value instead\n",
            "\n",
            "See the caveats in the documentation: https://pandas.pydata.org/pandas-docs/stable/user_guide/indexing.html#returning-a-view-versus-a-copy\n",
            "  after removing the cwd from sys.path.\n"
          ]
        },
        {
          "output_type": "display_data",
          "data": {
            "text/plain": [
              "<Figure size 1152x576 with 1 Axes>"
            ],
            "image/png": "[encoded data removed]"
          },
          "metadata": {}
        }
      ]
    },
    {
      "cell_type": "markdown",
      "source": [
        "- From the above visual it evident the model performed well since the validation line is very close to the prediction line having been trained with the the blue line data(train data set)"
      ],
      "metadata": {
        "id": "tlytLOPeMTo4"
      }
    },
    {
      "cell_type": "code",
      "source": [
        "# Showing the valid and predicted prices\n",
        "valid"
      ],
      "metadata": {
        "colab": {
          "base_uri": "https://localhost:8080/",
          "height": 455
        },
        "id": "4_5p31edM90H",
        "outputId": "ecb4f186-ab51-4a9f-ff19-98ba5b597f9f"
      },
      "execution_count": null,
      "outputs": [
        {
          "output_type": "execute_result",
          "data": {
            "text/plain": [
              "                 Close  Predictions\n",
              "Date                               \n",
              "2020-06-02   80.834999    79.805641\n",
              "2020-06-03   81.279999    80.052078\n",
              "2020-06-04   80.580002    80.359016\n",
              "2020-06-05   82.875000    80.572578\n",
              "2020-06-08   83.364998    81.005348\n",
              "...                ...          ...\n",
              "2022-06-30  136.720001   137.911636\n",
              "2022-07-01  138.929993   138.093109\n",
              "2022-07-05  141.559998   138.318665\n",
              "2022-07-06  142.919998   138.859344\n",
              "2022-07-07  146.350006   139.642410\n",
              "\n",
              "[529 rows x 2 columns]"
            ],
            "text/html": [
              "\n",
              "  <div id=\"df-f38e1372-b803-4f40-a10e-7d04560225d8\">\n",
              "    <div class=\"colab-df-container\">\n",
              "      <div>\n",
              "<style scoped>\n",
              "    .dataframe tbody tr th:only-of-type {\n",
              "        vertical-align: middle;\n",
              "    }\n",
              "\n",
              "    .dataframe tbody tr th {\n",
              "        vertical-align: top;\n",
              "    }\n",
              "\n",
              "    .dataframe thead th {\n",
              "        text-align: right;\n",
              "    }\n",
              "</style>\n",
              "<table border=\"1\" class=\"dataframe\">\n",
              "  <thead>\n",
              "    <tr style=\"text-align: right;\">\n",
              "      <th></th>\n",
              "      <th>Close</th>\n",
              "      <th>Predictions</th>\n",
              "    </tr>\n",
              "    <tr>\n",
              "      <th>Date</th>\n",
              "      <th></th>\n",
              "      <th></th>\n",
              "    </tr>\n",
              "  </thead>\n",
              "  <tbody>\n",
              "    <tr>\n",
              "      <th>2020-06-02</th>\n",
              "      <td>80.834999</td>\n",
              "      <td>79.805641</td>\n",
              "    </tr>\n",
              "    <tr>\n",
              "      <th>2020-06-03</th>\n",
              "      <td>81.279999</td>\n",
              "      <td>80.052078</td>\n",
              "    </tr>\n",
              "    <tr>\n",
              "      <th>2020-06-04</th>\n",
              "      <td>80.580002</td>\n",
              "      <td>80.359016</td>\n",
              "    </tr>\n",
              "    <tr>\n",
              "      <th>2020-06-05</th>\n",
              "      <td>82.875000</td>\n",
              "      <td>80.572578</td>\n",
              "    </tr>\n",
              "    <tr>\n",
              "      <th>2020-06-08</th>\n",
              "      <td>83.364998</td>\n",
              "      <td>81.005348</td>\n",
              "    </tr>\n",
              "    <tr>\n",
              "      <th>...</th>\n",
              "      <td>...</td>\n",
              "      <td>...</td>\n",
              "    </tr>\n",
              "    <tr>\n",
              "      <th>2022-06-30</th>\n",
              "      <td>136.720001</td>\n",
              "      <td>137.911636</td>\n",
              "    </tr>\n",
              "    <tr>\n",
              "      <th>2022-07-01</th>\n",
              "      <td>138.929993</td>\n",
              "      <td>138.093109</td>\n",
              "    </tr>\n",
              "    <tr>\n",
              "      <th>2022-07-05</th>\n",
              "      <td>141.559998</td>\n",
              "      <td>138.318665</td>\n",
              "    </tr>\n",
              "    <tr>\n",
              "      <th>2022-07-06</th>\n",
              "      <td>142.919998</td>\n",
              "      <td>138.859344</td>\n",
              "    </tr>\n",
              "    <tr>\n",
              "      <th>2022-07-07</th>\n",
              "      <td>146.350006</td>\n",
              "      <td>139.642410</td>\n",
              "    </tr>\n",
              "  </tbody>\n",
              "</table>\n",
              "<p>529 rows × 2 columns</p>\n",
              "</div>\n",
              "      <button class=\"colab-df-convert\" onclick=\"convertToInteractive('df-f38e1372-b803-4f40-a10e-7d04560225d8')\"\n",
              "              title=\"Convert this dataframe to an interactive table.\"\n",
              "              style=\"display:none;\">\n",
              "        \n",
              "  <svg xmlns=\"http://www.w3.org/2000/svg\" height=\"24px\"viewBox=\"0 0 24 24\"\n",
              "       width=\"24px\">\n",
              "    <path d=\"M0 0h24v24H0V0z\" fill=\"none\"/>\n",
              "    <path d=\"M18.56 5.44l.94 2.06.94-2.06 2.06-.94-2.06-.94-.94-2.06-.94 2.06-2.06.94zm-11 1L8.5 8.5l.94-2.06 2.06-.94-2.06-.94L8.5 2.5l-.94 2.06-2.06.94zm10 10l.94 2.06.94-2.06 2.06-.94-2.06-.94-.94-2.06-.94 2.06-2.06.94z\"/><path d=\"M17.41 7.96l-1.37-1.37c-.4-.4-.92-.59-1.43-.59-.52 0-1.04.2-1.43.59L10.3 9.45l-7.72 7.72c-.78.78-.78 2.05 0 2.83L4 21.41c.39.39.9.59 1.41.59.51 0 1.02-.2 1.41-.59l7.78-7.78 2.81-2.81c.8-.78.8-2.07 0-2.86zM5.41 20L4 18.59l7.72-7.72 1.47 1.35L5.41 20z\"/>\n",
              "  </svg>\n",
              "      </button>\n",
              "      \n",
              "  <style>\n",
              "    .colab-df-container {\n",
              "      display:flex;\n",
              "      flex-wrap:wrap;\n",
              "      gap: 12px;\n",
              "    }\n",
              "\n",
              "    .colab-df-convert {\n",
              "      background-color: #E8F0FE;\n",
              "      border: none;\n",
              "      border-radius: 50%;\n",
              "      cursor: pointer;\n",
              "      display: none;\n",
              "      fill: #1967D2;\n",
              "      height: 32px;\n",
              "      padding: 0 0 0 0;\n",
              "      width: 32px;\n",
              "    }\n",
              "\n",
              "    .colab-df-convert:hover {\n",
              "      background-color: #E2EBFA;\n",
              "      box-shadow: 0px 1px 2px rgba(60, 64, 67, 0.3), 0px 1px 3px 1px rgba(60, 64, 67, 0.15);\n",
              "      fill: #174EA6;\n",
              "    }\n",
              "\n",
              "    [theme=dark] .colab-df-convert {\n",
              "      background-color: #3B4455;\n",
              "      fill: #D2E3FC;\n",
              "    }\n",
              "\n",
              "    [theme=dark] .colab-df-convert:hover {\n",
              "      background-color: #434B5C;\n",
              "      box-shadow: 0px 1px 3px 1px rgba(0, 0, 0, 0.15);\n",
              "      filter: drop-shadow(0px 1px 2px rgba(0, 0, 0, 0.3));\n",
              "      fill: #FFFFFF;\n",
              "    }\n",
              "  </style>\n",
              "\n",
              "      <script>\n",
              "        const buttonEl =\n",
              "          document.querySelector('#df-f38e1372-b803-4f40-a10e-7d04560225d8 button.colab-df-convert');\n",
              "        buttonEl.style.display =\n",
              "          google.colab.kernel.accessAllowed ? 'block' : 'none';\n",
              "\n",
              "        async function convertToInteractive(key) {\n",
              "          const element = document.querySelector('#df-f38e1372-b803-4f40-a10e-7d04560225d8');\n",
              "          const dataTable =\n",
              "            await google.colab.kernel.invokeFunction('convertToInteractive',\n",
              "                                                     [key], {});\n",
              "          if (!dataTable) return;\n",
              "\n",
              "          const docLinkHtml = 'Like what you see? Visit the ' +\n",
              "            '<a target=\"_blank\" href=https://colab.research.google.com/notebooks/data_table.ipynb>data table notebook</a>'\n",
              "            + ' to learn more about interactive tables.';\n",
              "          element.innerHTML = '';\n",
              "          dataTable['output_type'] = 'display_data';\n",
              "          await google.colab.output.renderOutput(dataTable, element);\n",
              "          const docLink = document.createElement('div');\n",
              "          docLink.innerHTML = docLinkHtml;\n",
              "          element.appendChild(docLink);\n",
              "        }\n",
              "      </script>\n",
              "    </div>\n",
              "  </div>\n",
              "  "
            ]
          },
          "metadata": {},
          "execution_count": 23
        }
      ]
    },
    {
      "cell_type": "code",
      "source": [
        "# get the apple containing this month data\n",
        "df = web.DataReader('AAPL', data_source = 'yahoo', start='2012-01-01', end='2022-08-23')\n",
        "# Creating the dataframe\n",
        "new_df = df.filter(['Close'])\n",
        "# getting the las 60 day closing price values andconvert it into array\n",
        "day_60 = new_df[-60:].values\n",
        "# scaling the data\n",
        "day_60_scaled = scaler.transform(day_60)\n",
        "# creating an empty list\n",
        "X_test = []\n",
        "# appending the past 60 days\n",
        "X_test.append(day_60_scaled)\n",
        "#convert the X_test data set to a numpy array\n",
        "X_test = np.array(X_test)\n",
        "#Reshaping the data\n",
        "X_test = np.reshape(X_test, (X_test.shape[0], X_test.shape[1], 1))\n",
        "# getting the predicted scaled price\n",
        "pred_price = model.predict(X_test)\n",
        "#removing the scaling\n",
        "pred_price = scaler.inverse_transform(pred_price)\n",
        "print(pred_price)"
      ],
      "metadata": {
        "colab": {
          "base_uri": "https://localhost:8080/"
        },
        "id": "4fbjoJwiNcaC",
        "outputId": "aafcb2ba-3e46-417c-b13f-517b46d2c7ae"
      },
      "execution_count": null,
      "outputs": [
        {
          "output_type": "stream",
          "name": "stdout",
          "text": [
            "[[168.93286]]\n"
          ]
        }
      ]
    },
    {
      "cell_type": "code",
      "source": [
        "df_2 = web.DataReader('AAPL', data_source = 'yahoo', start='2022-08-24', end='2022-08-24')\n",
        "print(df_2['Close'])"
      ],
      "metadata": {
        "colab": {
          "base_uri": "https://localhost:8080/"
        },
        "id": "_cefKbkmSIjL",
        "outputId": "44711c46-af60-4255-b53e-ab05cec1403f"
      },
      "execution_count": null,
      "outputs": [
        {
          "output_type": "stream",
          "name": "stdout",
          "text": [
            "Date\n",
            "2022-08-24    167.529999\n",
            "Name: Close, dtype: float64\n"
          ]
        }
      ]
    },
    {
      "cell_type": "markdown",
      "source": [
        "- The Model performed well with a minor difference of **1.402861**"
      ],
      "metadata": {
        "id": "rM_V80XkWrsk"
      }
    },
    {
      "cell_type": "code",
      "source": [],
      "metadata": {
        "id": "sUNGL4xOSqJx"
      },
      "execution_count": null,
      "outputs": []
    }
  ]
}